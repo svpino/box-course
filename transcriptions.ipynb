{
 "cells": [
  {
   "cell_type": "code",
   "execution_count": 1,
   "id": "e4837475",
   "metadata": {},
   "outputs": [],
   "source": [
    "import os\n",
    "import whisper"
   ]
  },
  {
   "cell_type": "code",
   "execution_count": 4,
   "id": "0b7104b1",
   "metadata": {},
   "outputs": [
    {
     "name": "stderr",
     "output_type": "stream",
     "text": [
      "100%|█████████████████████████████████████| 1.42G/1.42G [01:36<00:00, 15.8MiB/s]\n"
     ]
    }
   ],
   "source": [
    "model = whisper.load_model(\"medium\")"
   ]
  },
  {
   "cell_type": "code",
   "execution_count": 5,
   "id": "7f0a6433",
   "metadata": {},
   "outputs": [
    {
     "name": "stdout",
     "output_type": "stream",
     "text": [
      " Let's take a look at how we can solve the problem by using the bugs API. This script right here will run over that solution which is very simple. The script starts by importing all of the libraries that we need and notice how we're loading the .env file, the environment variables, we're loading them into the session so we can access them. So we're gonna start right here by configuring a few settings that we will use throughout this notebook. First, we're gonna be using the Gemini 1.5 Flash which is a very good model but it's very fast and very cheap and it should be enough for everything that we want to do here. Then we're defining a local folder. So for us to process the invoices, we first need to download them to the local computer. We're gonna be storing those invoices in this local folder. Then we have three settings that come from the environment file. The first one is the ID of the folder in the bugs account that we want to process. So we're gonna be downloading every invoice stored in that particular folder. Then we have a box developer token which we need to connect to bugs to authorize our code. So you're gonna have to generate that token. And finally, we have the Gemini API key which will allow us to use the Gemini model. After we have those settings, we can create a bugs client variable and authorize it. And you can do that using these two lines. They're very simple. Notice how here we're using the box developer token. We then can use this client to perform any operation with the box API. So after configuring everything and after having a client, we're first going to connect to bugs to the box API and download the name of every invoice stored inside that folder. So here notice that we're using the get folder items function from the box API. We're passing the ID of the folder that we want to check and we are returning the entries. So this is going to give us the name of every single file storing that folder. After we have those files, we can create the local invoice folder if it doesn't exist. And then using the box API, using the download file function from the box API, we can iterate through the list of files and store those files locally. So basically after running this code up to this point, we're gonna have a folder locally stored and all of the invoices are going to be inside. After we have the invoices, we can just process them. Now I'm gonna start here by defining a simple parse JSON function. This function will help us deal with results coming from Gemini. Sometimes when Gemini returns a JSON object, sometimes it uses markdown, sometimes it's using direct JSON. So to prevent any failures, I created this simple function that is just gonna help us clean those responses from Gemini in case we care about JSON. So after that, this is the main function that we're gonna use to communicate with Gemini, give it the contents of a file and ask Gemini to parse that content and extract the information that we care about. Okay? You notice here that I'm just configuring the Gemini client using the Gemini API key. And then I'm defining the prompt and the prompt is very simple. I'm basically asking Gemini to extract the client name, the invoice amount, the product name and turn all of that into a JSON object with a set of specified keys that we care about. Okay? If the information is not found, then I'm asking Gemini to just return the value null. So this is my prompt. And after having that prompt, I can just connect to Gemini and just the generate content function using the model name that we defined before. Remember, this is going to be Gemini 1.5 flash and the prompt. Gemini is going to send a response back that hopefully will be JSON. We're gonna parse that JSON. We're gonna add the file name to that JSON. So the JSON is only going to bring client name, invoice amount and product name. We're gonna add a new field to that JSON with the name of the file so we can later store that data in the database. We're gonna print it out and we're gonna return it from this function. So this is what we need in order to send that information to Gemini and return it back. Now, let's get ready to process all of the invoices and store the data that we extract from them into the database. So we're gonna start by creating that database if it doesn't exist. In this particular case, we're using SQLite because it's very simple to set up and use, but you could be using any database that you wanted. So these few lines here create a connection to a local database file that's gonna be called invoices.db. Then it's gonna create a cursor that we're gonna use in order to make updates to that database. And we're gonna execute a create table statement. So we're gonna create a table to store the client, the amount and the product referenced by each invoice. And any time we commit, that will make those changes in the database permanent. So after creating the database, now we're gonna go through the list of files, through the list of invoices inside the invoice folder. We're gonna be doing OCR to extract the text. Remember those invoices are PDF documents. They could be any sort of document. So we're gonna be doing OCR to extract the text and using the extract function that we defined before to extract the fields from that text. So here, we're gonna just list the contents of the invoices folder. If the file ends with .pdf, because this code only supports right now PDF documents, that's what the OCR it supports. And then we're gonna be reading that file. I'm using here a library, the PDF reader library. That is the library that I'm using to do OCR on the PDF document. And then I'm going through all of the pages of that PDF document and appending them into a single text variable. So that will end up containing the entire text from an invoice. Then we're gonna be calling the extract invoice fields, which is the function that we defined before to use Gemini to extract the data. I'm gonna be getting that data back. Remember that's gonna be a JSON object. And then we're gonna be updating that information in the database. So we're gonna be executing an insert statement with all of the fields in the database. If that element already exists, so if the file was already processed, then this statement, SQL statement, will be updating those fields instead of inserting them. So after we update the database, we can loop to the next item on the list and then repeat until we process all of the existing invoices. After doing that, the only thing left is just generating a report based on the information that we have in the database. To do this, we're gonna be connecting to the database. We're gonna be running a query that will return all of the data that we have, but we're gonna sum, we're gonna aggregate by the amount of data. So we're gonna sum that, that's gonna be the first report. So we're gonna print the total number of invoices that we have in the database. And what is the total amount? That's the aggregation. And the second report that we're gonna be printing, we're gonna be aggregating by grouping by client. So basically we want to see all of the different clients and how much money we're getting from each of those clients. So that will be running another SQL query. That is what the SQL query looks like to do the aggregation and then printing that out. At the end, we just close the connection with the database and we're done. This simple script takes care of processing all of the invoices existing inside a box folder and generating a report based on them.\n"
     ]
    }
   ],
   "source": [
    "result = model.transcribe(\"/Users/svpino/Movies/Box - Script 1.mov\", fp16=False)\n",
    "print(result[\"text\"])"
   ]
  },
  {
   "cell_type": "code",
   "execution_count": null,
   "id": "bcff5706",
   "metadata": {},
   "outputs": [],
   "source": []
  }
 ],
 "metadata": {
  "kernelspec": {
   "display_name": "box-course",
   "language": "python",
   "name": "python3"
  },
  "language_info": {
   "codemirror_mode": {
    "name": "ipython",
    "version": 3
   },
   "file_extension": ".py",
   "mimetype": "text/x-python",
   "name": "python",
   "nbconvert_exporter": "python",
   "pygments_lexer": "ipython3",
   "version": "3.12.11"
  }
 },
 "nbformat": 4,
 "nbformat_minor": 5
}
