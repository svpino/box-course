{
 "cells": [
  {
   "cell_type": "markdown",
   "metadata": {
    "id": "6a63f50996b5"
   },
   "source": [
    "# Processing Invoices Using A Multi-Agent Solution\n"
   ]
  },
  {
   "cell_type": "code",
   "execution_count": null,
   "metadata": {
    "id": "2c229a99c6b8"
   },
   "outputs": [],
   "source": [
    "import os\n",
    "from a2a.server.apps import A2AStarletteApplication\n",
    "from a2a.server.request_handlers import DefaultRequestHandler\n",
    "from a2a.server.tasks import InMemoryTaskStore\n",
    "from a2a.types import (\n",
    "    AgentCapabilities,\n",
    "    AgentCard,\n",
    "    AgentSkill,\n",
    "    MessageSendParams,\n",
    "    SendMessageRequest,\n",
    ")\n",
    "from a2a.utils.constants import AGENT_CARD_WELL_KNOWN_PATH\n",
    "from a2a.client import A2AClient\n",
    "\n",
    "from google.adk.a2a.executor.a2a_agent_executor import (\n",
    "    A2aAgentExecutor,\n",
    "    A2aAgentExecutorConfig,\n",
    ")\n",
    "from google.adk.agents import Agent\n",
    "from google.adk.agents.remote_a2a_agent import RemoteA2aAgent\n",
    "from google.adk.artifacts import InMemoryArtifactService\n",
    "from google.adk.memory.in_memory_memory_service import InMemoryMemoryService\n",
    "from google.adk.runners import Runner\n",
    "from google.adk.sessions import InMemorySessionService\n",
    "from google.adk.tools.mcp_tool.mcp_toolset import (\n",
    "    MCPToolset,\n",
    "    StdioServerParameters,\n",
    "    StdioConnectionParams,\n",
    ")\n",
    "from dotenv import load_dotenv\n",
    "import asyncio\n",
    "import threading\n",
    "import time\n",
    "import json\n",
    "from typing import Any\n",
    "import uuid\n",
    "import httpx\n",
    "import nest_asyncio\n",
    "import uvicorn\n",
    "\n",
    "\n",
    "load_dotenv(override=True)"
   ]
  },
  {
   "cell_type": "code",
   "execution_count": null,
   "metadata": {},
   "outputs": [],
   "source": [
    "MODEL_NAME = \"gemini-2.5-pro\"\n",
    "\n",
    "FILES_AGENT_PORT = 10021\n",
    "EXTRACTION_AGENT_PORT = 10022\n",
    "ORCHESTRATOR_AGENT_PORT = 10023\n",
    "\n",
    "BOX_FOLDER_ID = os.getenv(\"BOX_FOLDER_ID\")\n",
    "BOX_MCP_SERVER_PATH = \"/Users/svpino/dev/mcp-server-box\"\n",
    "\n",
    "# Apply nest_asyncio to allow nested event loops in Jupyter\n",
    "nest_asyncio.apply()"
   ]
  },
  {
   "cell_type": "markdown",
   "metadata": {},
   "source": [
    "## Configuring access to Box's MCP Server"
   ]
  },
  {
   "cell_type": "code",
   "execution_count": null,
   "metadata": {},
   "outputs": [],
   "source": [
    "connection_params = StdioConnectionParams(\n",
    "    server_params=StdioServerParameters(\n",
    "        command=\"uv\",\n",
    "        args=[\n",
    "            \"--directory\",\n",
    "            BOX_MCP_SERVER_PATH,\n",
    "            \"run\",\n",
    "            \"src/mcp_server_box.py\",\n",
    "        ],\n",
    "        timeout=60,\n",
    "    )\n",
    ")"
   ]
  },
  {
   "cell_type": "markdown",
   "metadata": {},
   "source": [
    "## Creating the Agents\n",
    "\n",
    "We'll create three agents:\n",
    "\n",
    "1. Files Agent - Returns every file inside a specified folder in Box.\n",
    "2. Extraction Agent - Extrats structure data from a specific document stored in Box.\n",
    "3. Orchestrator Agent - Orchestrates the work of the other agents."
   ]
  },
  {
   "cell_type": "markdown",
   "metadata": {
    "id": "bf7079208e95"
   },
   "source": [
    "### Agent 1 - Files Agent\n",
    "\n",
    "This agent will return every file inside a specified folder in Box."
   ]
  },
  {
   "cell_type": "code",
   "execution_count": null,
   "metadata": {},
   "outputs": [],
   "source": [
    "files_agent = Agent(\n",
    "    model=MODEL_NAME,\n",
    "    name=\"files_agent\",\n",
    "    instruction=\"\"\"\n",
    "    Your job is to list the ID of every file inside the folder with the given ID.\n",
    "    \"\"\",\n",
    "    tools=[\n",
    "        MCPToolset(\n",
    "            connection_params=connection_params,\n",
    "            tool_filter=[\"box_list_folder_content_by_folder_id\"],\n",
    "        )\n",
    "    ],\n",
    ")"
   ]
  },
  {
   "cell_type": "markdown",
   "metadata": {},
   "source": [
    "Let's now create the Agent Card."
   ]
  },
  {
   "cell_type": "code",
   "execution_count": null,
   "metadata": {},
   "outputs": [],
   "source": [
    "files_agent_card = AgentCard(\n",
    "    name=\"Files Agent\",\n",
    "    url=f\"http://localhost:{FILES_AGENT_PORT}\",\n",
    "    description=\"List files in a folder given its folder ID.\",\n",
    "    version=\"1.0\",\n",
    "    capabilities=AgentCapabilities(streaming=True),\n",
    "    default_input_modes=[\"text/plain\"],\n",
    "    default_output_modes=[\"text/plain\"],\n",
    "    skills=[\n",
    "        AgentSkill(\n",
    "            id=\"list_files_in_folder\",\n",
    "            name=\"List existing files in a folder\",\n",
    "            description=\"List files in a folder given its folder ID.\",\n",
    "            tags=[\"files\", \"folder\", \"find\", \"list\"],\n",
    "            examples=[\"List files in folder 12345\"],\n",
    "        )\n",
    "    ],\n",
    ")"
   ]
  },
  {
   "cell_type": "markdown",
   "metadata": {},
   "source": [
    "Let's now create the client to communicate with the A2A Server."
   ]
  },
  {
   "cell_type": "code",
   "execution_count": null,
   "metadata": {},
   "outputs": [],
   "source": [
    "remote_files_agent = RemoteA2aAgent(\n",
    "    name=\"list_files_in_folder\",\n",
    "    description=\"List files in a folder given the folder ID.\",\n",
    "    agent_card=f\"http://localhost:{FILES_AGENT_PORT}{AGENT_CARD_WELL_KNOWN_PATH}\",\n",
    ")"
   ]
  },
  {
   "cell_type": "markdown",
   "metadata": {},
   "source": [
    "### Agent 2 - Extraction Agent\n",
    "\n",
    "This agent will extract invoice data from a given document."
   ]
  },
  {
   "cell_type": "code",
   "execution_count": null,
   "metadata": {},
   "outputs": [],
   "source": [
    "extraction_agent = Agent(\n",
    "    model=MODEL_NAME,\n",
    "    name=\"data_extraction_agent\",\n",
    "    instruction=\"\"\"\n",
    "    Your job is to extract invoice data from a file given its ID.\n",
    "\n",
    "    You will receive the ID of a file. You will extract the following fields from that file:\n",
    "    client_name, invoice_amount, product_name.\n",
    "\n",
    "    You MUST return your response in the following JSON format:\n",
    "    {\n",
    "        \"ID\": \"<file_id>\",\n",
    "        \"client_name\": \"<name_of_the_client>\",\n",
    "        \"invoice_amount\": <amount>,\n",
    "        \"product_name\": \"<name_of_the_product>\"\n",
    "    }\n",
    "\n",
    "    Only return the JSON object, no additional text, and no markdown formatting.\n",
    "    \"\"\",\n",
    "    tools=[\n",
    "        MCPToolset(\n",
    "            connection_params=connection_params,\n",
    "            tool_filter=[\"box_ai_extract_tool\"],\n",
    "        )\n",
    "    ],\n",
    ")"
   ]
  },
  {
   "cell_type": "markdown",
   "metadata": {},
   "source": [
    "Let's now create the Agent Card."
   ]
  },
  {
   "cell_type": "code",
   "execution_count": null,
   "metadata": {},
   "outputs": [],
   "source": [
    "extraction_agent_card = AgentCard(\n",
    "    name=\"Invoice Data Extraction Agent\",\n",
    "    url=f\"http://localhost:{EXTRACTION_AGENT_PORT}\",\n",
    "    description=\"Extract invoice data from a given file\",\n",
    "    version=\"1.0\",\n",
    "    capabilities=AgentCapabilities(streaming=True),\n",
    "    default_input_modes=[\"text/plain\", \"application/json\"],\n",
    "    default_output_modes=[\"text/plain\", \"application/json\"],\n",
    "    skills=[\n",
    "        AgentSkill(\n",
    "            id=\"extract_invoice_data_from_file\",\n",
    "            name=\"Extract Invoice Data From File\",\n",
    "            description=\"Extracts invoice data from a specific file\",\n",
    "            tags=[\"extract\", \"data\"],\n",
    "            examples=[\n",
    "                \"Extract invoice data from file ID 12345\",\n",
    "                '{\"file_id\": \"67890\"}',\n",
    "            ],\n",
    "        )\n",
    "    ],\n",
    ")"
   ]
  },
  {
   "cell_type": "markdown",
   "metadata": {},
   "source": [
    "Let's now create the client to communicate with the A2A Server."
   ]
  },
  {
   "cell_type": "code",
   "execution_count": null,
   "metadata": {},
   "outputs": [],
   "source": [
    "remote_extraction_agent = RemoteA2aAgent(\n",
    "    name=\"extract_invoice_data_from_file\",\n",
    "    description=\"Extracts invoice data from a specific file\",\n",
    "    agent_card=f\"http://localhost:{EXTRACTION_AGENT_PORT}{AGENT_CARD_WELL_KNOWN_PATH}\",\n",
    ")"
   ]
  },
  {
   "cell_type": "markdown",
   "metadata": {
    "id": "18e76145ebd4"
   },
   "source": [
    "### Agent 3 - Orchestrator Agent\n",
    "\n",
    "This agent will coordinate between the other agents to process every invoice in Box and extract their data."
   ]
  },
  {
   "cell_type": "code",
   "execution_count": null,
   "metadata": {
    "id": "99522ad83421"
   },
   "outputs": [],
   "source": [
    "orchestrator_agent = Agent(\n",
    "    model=MODEL_NAME,\n",
    "    name=\"orchestrator_agent\",\n",
    "    instruction=\"\"\"\n",
    "You are an expert AI Orchestrator.\n",
    "\n",
    "Your primary responsibility is to interpret user requests, plan the necessary\n",
    "sequence of actions if multiple steps are involved, and delegate them to the\n",
    "most appropriate specialized remote agents.\n",
    "\n",
    "You do not perform the tasks yourself but manage their assignment, sequence, \n",
    "and can monitor their status.\n",
    "\n",
    "* Always prioritize selecting the correct agent(s) based on their documented purpose.\n",
    "* Ensure all information required by the chosen remote agent is included in the\n",
    "  call, including outputs from previous agents if it's a sequential task.\n",
    "* Focus on the most recent parts of the conversation for immediate context, \n",
    "  but maintain awareness of the overall goal, especially for multi-step requests.\n",
    "\"\"\",\n",
    "    sub_agents=[remote_files_agent, remote_extraction_agent],\n",
    ")"
   ]
  },
  {
   "cell_type": "markdown",
   "metadata": {},
   "source": [
    "Let's now create the Agent Card."
   ]
  },
  {
   "cell_type": "code",
   "execution_count": null,
   "metadata": {},
   "outputs": [],
   "source": [
    "orchestrator_agent_card = AgentCard(\n",
    "    name=\"Orchestrator Agent\",\n",
    "    url=f\"http://localhost:{ORCHESTRATOR_AGENT_PORT}\",\n",
    "    description=\"Orchestrates listing files in folders and extracting invoice data from them\",\n",
    "    version=\"1.0\",\n",
    "    capabilities=AgentCapabilities(streaming=True),\n",
    "    default_input_modes=[\"text/plain\"],\n",
    "    default_output_modes=[\"text/plain\", \"application/json\"],\n",
    "    skills=[\n",
    "        AgentSkill(\n",
    "            id=\"folder_data_extraction\",\n",
    "            name=\"Folder Data Extraction\",\n",
    "            description=\"Extracts invoice data from files in a specific folder\",\n",
    "            tags=[\"files\", \"extract\", \"orchestration\"],\n",
    "            examples=[\n",
    "                \"Extract invoice data from files in folder 123\",\n",
    "                \"Process folder 123 and extract data from all files\",\n",
    "            ],\n",
    "        )\n",
    "    ],\n",
    ")"
   ]
  },
  {
   "cell_type": "markdown",
   "metadata": {
    "id": "1802fda73322"
   },
   "source": [
    "## Running the agents\n",
    "\n",
    "Let's start by creating a function to run an agent as an A2A server."
   ]
  },
  {
   "cell_type": "code",
   "execution_count": null,
   "metadata": {},
   "outputs": [],
   "source": [
    "def create_agent_a2a_server(agent, agent_card):\n",
    "    \"\"\"Create an A2A server for the supplied agent.\"\"\"\n",
    "    runner = Runner(\n",
    "        app_name=agent.name,\n",
    "        agent=agent,\n",
    "        artifact_service=InMemoryArtifactService(),\n",
    "        session_service=InMemorySessionService(),\n",
    "        memory_service=InMemoryMemoryService(),\n",
    "    )\n",
    "\n",
    "    config = A2aAgentExecutorConfig()\n",
    "    executor = A2aAgentExecutor(runner=runner, config=config)\n",
    "\n",
    "    request_handler = DefaultRequestHandler(\n",
    "        agent_executor=executor,\n",
    "        task_store=InMemoryTaskStore(),\n",
    "    )\n",
    "\n",
    "    return A2AStarletteApplication(agent_card=agent_card, http_handler=request_handler)"
   ]
  },
  {
   "cell_type": "markdown",
   "metadata": {
    "id": "5b4c7a75c7ec"
   },
   "source": [
    "Let's now define a few functions to run each agent as an A2A Server in the background."
   ]
  },
  {
   "cell_type": "code",
   "execution_count": null,
   "metadata": {},
   "outputs": [],
   "source": [
    "servers = []\n",
    "\n",
    "\n",
    "async def run_server_notebook(create_agent_function, port):\n",
    "    \"\"\"Run server with proper error handling.\"\"\"\n",
    "    try:\n",
    "        print(f\"\\nStarting agent on port {port}...\")\n",
    "        app = create_agent_function()\n",
    "        config = uvicorn.Config(\n",
    "            app.build(), host=\"127.0.0.1\", port=port, log_level=\"error\", loop=\"asyncio\"\n",
    "        )\n",
    "        server = uvicorn.Server(config)\n",
    "        servers.append(server)\n",
    "        await server.serve()\n",
    "    except Exception as e:\n",
    "        print(f\"Error running agent server: {e}\")\n",
    "\n",
    "\n",
    "def run_agent_in_background(create_agent_function, port, name):\n",
    "    \"\"\"Run an agent server in a background thread.\"\"\"\n",
    "\n",
    "    def run():\n",
    "        loop = asyncio.new_event_loop()\n",
    "        asyncio.set_event_loop(loop)\n",
    "        try:\n",
    "            loop.run_until_complete(run_server_notebook(create_agent_function, port))\n",
    "        except Exception as e:\n",
    "            print(f\"{name} error: {e}\")\n",
    "\n",
    "    thread = threading.Thread(target=run, daemon=True)\n",
    "    thread.start()\n",
    "    return thread"
   ]
  },
  {
   "cell_type": "markdown",
   "metadata": {},
   "source": [
    "Let's now start the agent servers."
   ]
  },
  {
   "cell_type": "code",
   "execution_count": null,
   "metadata": {},
   "outputs": [],
   "source": [
    "files_thread = run_agent_in_background(\n",
    "    lambda: create_agent_a2a_server(files_agent, files_agent_card),\n",
    "    FILES_AGENT_PORT,\n",
    "    \"Files Agent\",\n",
    ")\n",
    "\n",
    "extraction_thread = run_agent_in_background(\n",
    "    lambda: create_agent_a2a_server(extraction_agent, extraction_agent_card),\n",
    "    EXTRACTION_AGENT_PORT,\n",
    "    \"Invoice Data Extraction Agent\",\n",
    ")\n",
    "\n",
    "orchestrator_thread = run_agent_in_background(\n",
    "    lambda: create_agent_a2a_server(orchestrator_agent, orchestrator_agent_card),\n",
    "    ORCHESTRATOR_AGENT_PORT,\n",
    "    \"Orchestrator Agent\",\n",
    ")"
   ]
  },
  {
   "cell_type": "markdown",
   "metadata": {},
   "source": [
    "Let's wait for the servers to start and check if every agent is running."
   ]
  },
  {
   "cell_type": "code",
   "execution_count": null,
   "metadata": {},
   "outputs": [],
   "source": [
    "time.sleep(3)\n",
    "\n",
    "if (\n",
    "    files_thread.is_alive()\n",
    "    and extraction_thread.is_alive()\n",
    "    and orchestrator_thread.is_alive()\n",
    "):\n",
    "    print(\"Agent servers are running.\")\n",
    "else:\n",
    "    print(\"Agent servers failed to start.\")"
   ]
  },
  {
   "cell_type": "markdown",
   "metadata": {
    "id": "8211c3344a60"
   },
   "source": [
    "## Running the Multi-Agent system\n",
    "\n",
    "Let's create a simple client class to access the A2A system."
   ]
  },
  {
   "cell_type": "code",
   "execution_count": null,
   "metadata": {
    "id": "03e7b1c16c1a"
   },
   "outputs": [],
   "source": [
    "class A2ASimpleClient:\n",
    "    def __init__(self, default_timeout: float = 3600.0):\n",
    "        self._agent_info_cache: dict[\n",
    "            str, dict[str, Any] | None\n",
    "        ] = {}  # Cache for agent metadata\n",
    "        self.default_timeout = default_timeout\n",
    "\n",
    "    async def create_task(self, agent_url: str, message: str) -> str:\n",
    "        \"\"\"Send a message following the official A2A SDK pattern.\"\"\"\n",
    "        # Configure httpx client with timeout\n",
    "        timeout_config = httpx.Timeout(\n",
    "            timeout=self.default_timeout,\n",
    "            connect=10.0,\n",
    "            read=self.default_timeout,\n",
    "            write=10.0,\n",
    "            pool=5.0,\n",
    "        )\n",
    "\n",
    "        async with httpx.AsyncClient(timeout=timeout_config) as httpx_client:\n",
    "            # Check if we have cached agent card data\n",
    "            if (\n",
    "                agent_url in self._agent_info_cache\n",
    "                and self._agent_info_cache[agent_url] is not None\n",
    "            ):\n",
    "                agent_card_data = self._agent_info_cache[agent_url]\n",
    "            else:\n",
    "                # Fetch the agent card\n",
    "                agent_card_response = await httpx_client.get(\n",
    "                    f\"{agent_url}{AGENT_CARD_WELL_KNOWN_PATH}\"\n",
    "                )\n",
    "                agent_card_data = self._agent_info_cache[agent_url] = (\n",
    "                    agent_card_response.json()\n",
    "                )\n",
    "\n",
    "            # Create AgentCard from data\n",
    "            agent_card = AgentCard(**agent_card_data)\n",
    "\n",
    "            # Create A2A client with the agent card\n",
    "            client = A2AClient(httpx_client=httpx_client, agent_card=agent_card)\n",
    "\n",
    "            # Build the message parameters following official structure\n",
    "            send_message_payload = {\n",
    "                \"message\": {\n",
    "                    \"role\": \"user\",\n",
    "                    \"parts\": [{\"kind\": \"text\", \"text\": message}],\n",
    "                    \"messageId\": uuid.uuid4().hex,\n",
    "                }\n",
    "            }\n",
    "\n",
    "            # Create the request\n",
    "            request = SendMessageRequest(\n",
    "                id=str(uuid.uuid4()), params=MessageSendParams(**send_message_payload)\n",
    "            )\n",
    "\n",
    "            # Send the message with timeout configuration\n",
    "            response = await client.send_message(request)\n",
    "\n",
    "            # Extract text from response\n",
    "            try:\n",
    "                response_dict = response.model_dump(mode=\"json\", exclude_none=True)\n",
    "\n",
    "                if \"result\" in response_dict and \"artifacts\" in response_dict[\"result\"]:\n",
    "                    artifacts = response_dict[\"result\"][\"artifacts\"]\n",
    "                    for artifact in artifacts:\n",
    "                        if \"parts\" in artifact:\n",
    "                            for part in artifact[\"parts\"]:\n",
    "                                if \"text\" in part:\n",
    "                                    return part[\"text\"]\n",
    "\n",
    "                # If we couldn't extract text, return the full response as formatted JSON\n",
    "                return json.dumps(response_dict, indent=2)\n",
    "\n",
    "            except Exception as e:\n",
    "                print(f\"Error parsing response: {e}\")\n",
    "                return str(response)\n",
    "\n",
    "\n",
    "a2a_client = A2ASimpleClient()"
   ]
  },
  {
   "cell_type": "markdown",
   "metadata": {},
   "source": [
    "Let's now ask the orchestrator agent to list every file in a folder"
   ]
  },
  {
   "cell_type": "code",
   "execution_count": null,
   "metadata": {},
   "outputs": [],
   "source": [
    "report = await a2a_client.create_task(\n",
    "    f\"http://localhost:{ORCHESTRATOR_AGENT_PORT}\",\n",
    "    f\"List files in folder {BOX_FOLDER_ID}.\",\n",
    ")\n",
    "\n",
    "print(report)"
   ]
  },
  {
   "cell_type": "markdown",
   "metadata": {},
   "source": [
    "We can also ask the orchestrator to extract data from a specific file"
   ]
  },
  {
   "cell_type": "code",
   "execution_count": null,
   "metadata": {},
   "outputs": [],
   "source": [
    "report = await a2a_client.create_task(\n",
    "    f\"http://localhost:{ORCHESTRATOR_AGENT_PORT}\",\n",
    "    \"Extract data from file 1920593027952\",\n",
    ")\n",
    "\n",
    "print(report)"
   ]
  },
  {
   "cell_type": "code",
   "execution_count": null,
   "metadata": {},
   "outputs": [],
   "source": []
  }
 ],
 "metadata": {
  "colab": {
   "name": "a2a_quickstart.ipynb",
   "toc_visible": true
  },
  "kernelspec": {
   "display_name": "box-course",
   "language": "python",
   "name": "python3"
  },
  "language_info": {
   "codemirror_mode": {
    "name": "ipython",
    "version": 3
   },
   "file_extension": ".py",
   "mimetype": "text/x-python",
   "name": "python",
   "nbconvert_exporter": "python",
   "pygments_lexer": "ipython3",
   "version": "3.12.11"
  }
 },
 "nbformat": 4,
 "nbformat_minor": 0
}
