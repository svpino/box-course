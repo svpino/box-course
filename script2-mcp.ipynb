{
 "cells": [
  {
   "cell_type": "markdown",
   "id": "d0a4609c",
   "metadata": {},
   "source": [
    "# Processing Invoices Using Box's MCP Server"
   ]
  },
  {
   "cell_type": "code",
   "execution_count": 15,
   "id": "0c565356",
   "metadata": {},
   "outputs": [
    {
     "data": {
      "text/plain": [
       "True"
      ]
     },
     "execution_count": 15,
     "metadata": {},
     "output_type": "execute_result"
    }
   ],
   "source": [
    "import os\n",
    "import json\n",
    "from dotenv import load_dotenv\n",
    "from google import genai\n",
    "from google.genai import types\n",
    "from mcp import ClientSession, StdioServerParameters\n",
    "from mcp.client.stdio import stdio_client\n",
    "from database import setup_database, update_invoice_in_database, generate_report\n",
    "from model import generate\n",
    "\n",
    "load_dotenv(override=True)"
   ]
  },
  {
   "cell_type": "markdown",
   "id": "9064c418",
   "metadata": {},
   "source": [
    "Let's now configure a few settings that we'll use throughout the notebook."
   ]
  },
  {
   "cell_type": "code",
   "execution_count": 16,
   "id": "5a199e2a",
   "metadata": {},
   "outputs": [],
   "source": [
    "BOX_CLIENT_ID = os.getenv(\"BOX_CLIENT_ID\")\n",
    "BOX_CLIENT_SECRET = os.getenv(\"BOX_CLIENT_SECRET\")\n",
    "GEMINI_API_KEY = os.getenv(\"GEMINI_API_KEY\")\n",
    "BOX_FOLDER_ID = os.getenv(\"BOX_FOLDER_ID\")\n",
    "BOX_MCP_SERVER_PATH = \"/Users/svpino/dev/mcp-server-box\"\n",
    "BOX_MCP_TOOLS = [\n",
    "    \"box_who_am_i\",\n",
    "    \"box_list_folder_content_by_folder_id\",\n",
    "    \"box_ai_extract_tool\",\n",
    "]"
   ]
  },
  {
   "cell_type": "markdown",
   "id": "4034ffd8",
   "metadata": {},
   "source": [
    "## Configuring Box' MCP Server\n",
    "\n",
    "First, let's configure Gemini and prepare the connection to the Box's MCP Server."
   ]
  },
  {
   "cell_type": "code",
   "execution_count": 17,
   "id": "4e1c4e9b",
   "metadata": {},
   "outputs": [],
   "source": [
    "client = genai.Client(api_key=GEMINI_API_KEY)\n",
    "\n",
    "server_params = StdioServerParameters(\n",
    "    command=\"uv\",\n",
    "    args=[\n",
    "        \"--directory\",\n",
    "        BOX_MCP_SERVER_PATH,\n",
    "        \"run\",\n",
    "        \"src/mcp_server_box.py\",\n",
    "    ],\n",
    ")"
   ]
  },
  {
   "cell_type": "markdown",
   "id": "939c0588",
   "metadata": {},
   "source": [
    "Now, let's create a function to set up the list of MCP tools that will be used to interact with Box."
   ]
  },
  {
   "cell_type": "code",
   "execution_count": 18,
   "id": "17e3390a",
   "metadata": {},
   "outputs": [],
   "source": [
    "async def get_mcp_tools(session: ClientSession):\n",
    "    \"\"\"\n",
    "    Set up the list of MCP tools that will be used to interact with Box.\n",
    "    \"\"\"\n",
    "    mcp_tools = await session.list_tools()\n",
    "    return [\n",
    "        types.Tool(\n",
    "            function_declarations=[\n",
    "                {\n",
    "                    \"name\": tool.name,\n",
    "                    \"description\": tool.description,\n",
    "                    \"parameters\": {p: v for p, v in tool.inputSchema.items()},\n",
    "                }\n",
    "            ]\n",
    "        )\n",
    "        for tool in mcp_tools.tools\n",
    "        if tool.name in BOX_MCP_TOOLS\n",
    "    ]"
   ]
  },
  {
   "cell_type": "markdown",
   "id": "e8a801ad",
   "metadata": {},
   "source": [
    "## Processing invoices\n",
    "\n",
    "Let's start by defining the function that will extract the data from a given invoice."
   ]
  },
  {
   "cell_type": "code",
   "execution_count": 19,
   "id": "d53436d1",
   "metadata": {},
   "outputs": [],
   "source": [
    "async def extract_invoice_fields(\n",
    "    invoice: dict, client: genai.Client, session: ClientSession, tools: list\n",
    "):\n",
    "    \"\"\"\n",
    "    Extract data from the given invoice.\n",
    "    \"\"\"\n",
    "    print(f'Extracting data from invoice \"{invoice[\"name\"]}\"...')\n",
    "    prompt = (\n",
    "        \"Extract the following fields from the invoice \"\n",
    "        f\"with file_id {invoice['id']}: \"\n",
    "        \"client_name, invoice_amount, product_name. \"\n",
    "        \"Return the invoice_amount as a float. \"\n",
    "    )\n",
    "    response = await generate(prompt, client, session, tools)\n",
    "    result = json.loads(response[0][\"answer\"])\n",
    "    result[\"file\"] = invoice[\"name\"]\n",
    "    return result\n"
   ]
  },
  {
   "cell_type": "markdown",
   "id": "d69ba2a1",
   "metadata": {},
   "source": [
    "Let's set up the database where we'll store the information of every invoice."
   ]
  },
  {
   "cell_type": "code",
   "execution_count": 20,
   "id": "7242f2fc",
   "metadata": {},
   "outputs": [],
   "source": [
    "connection = setup_database()"
   ]
  },
  {
   "cell_type": "markdown",
   "id": "ad332c15",
   "metadata": {},
   "source": [
    "Let's create a Gemini session with access to Box's MCP Server, list the invoices stored in Box and extract the data from each of them."
   ]
  },
  {
   "cell_type": "code",
   "execution_count": null,
   "id": "ab2b6375",
   "metadata": {},
   "outputs": [
    {
     "name": "stdout",
     "output_type": "stream",
     "text": [
      "[Tool(\n",
      "  function_declarations=[\n",
      "    FunctionDeclaration(\n",
      "      description=\"\"\"\n",
      "Get the current user's information.\n",
      "This is also useful to check the connection status.\n",
      "\n",
      "return:\n",
      "    dict: The current user's information.\n",
      "\"\"\",\n",
      "      name='box_who_am_i',\n",
      "      parameters=Schema(\n",
      "        properties={},\n",
      "        title='box_who_am_iArguments',\n",
      "        type=<Type.OBJECT: 'OBJECT'>\n",
      "      )\n",
      "    ),\n",
      "  ]\n",
      "), Tool(\n",
      "  function_declarations=[\n",
      "    FunctionDeclaration(\n",
      "      description=\"\"\"\"\n",
      "Extract data from a single file in Box using AI.\n",
      "\n",
      "Args:\n",
      "    file_id (str): The ID of the file to read.\n",
      "    fields (str): The fields to extract from the file.\n",
      "return:\n",
      "    dict: The extracted data in a json string format.\n",
      "\"\"\",\n",
      "      name='box_ai_extract_tool',\n",
      "      parameters=Schema(\n",
      "        properties={\n",
      "          'fields': Schema(\n",
      "            title='Fields',\n",
      "            type=<Type.STRING: 'STRING'>\n",
      "          ),\n",
      "          'file_id': Schema(\n",
      "            title='File Id',\n",
      "            type=<Type.STRING: 'STRING'>\n",
      "          )\n",
      "        },\n",
      "        required=[\n",
      "          'file_id',\n",
      "          'fields',\n",
      "        ],\n",
      "        title='box_ai_extract_toolArguments',\n",
      "        type=<Type.OBJECT: 'OBJECT'>\n",
      "      )\n",
      "    ),\n",
      "  ]\n",
      "), Tool(\n",
      "  function_declarations=[\n",
      "    FunctionDeclaration(\n",
      "      description=\"\"\"\n",
      "List the content of a folder in Box by its ID.\n",
      "\n",
      "Args:\n",
      "    folder_id (str): The ID of the folder to list the content of.\n",
      "    is_recursive (bool): Whether to list the content recursively.\n",
      "\n",
      "return:\n",
      "    dict: The content of the folder in a json string format, including the \"id\", \"name\", \"type\", and \"description\".\n",
      "\"\"\",\n",
      "      name='box_list_folder_content_by_folder_id',\n",
      "      parameters=Schema(\n",
      "        properties={\n",
      "          'folder_id': Schema(\n",
      "            title='Folder Id',\n",
      "            type=<Type.STRING: 'STRING'>\n",
      "          ),\n",
      "          'is_recursive': Schema(\n",
      "            default=False,\n",
      "            title='Is Recursive',\n",
      "            type=<Type.BOOLEAN: 'BOOLEAN'>\n",
      "          )\n",
      "        },\n",
      "        required=[\n",
      "          'folder_id',\n",
      "        ],\n",
      "        title='box_list_folder_content_by_folder_idArguments',\n",
      "        type=<Type.OBJECT: 'OBJECT'>\n",
      "      )\n",
      "    ),\n",
      "  ]\n",
      ")]\n",
      "[Calling MCP Tool: \"box_list_folder_content_by_folder_id\"]\n",
      "Found 4 invoices\n",
      "Extracting data from invoice \"Invoice-ETOX6AZS-0004.pdf\"...\n",
      "[Calling MCP Tool: \"box_ai_extract_tool\"]\n"
     ]
    },
    {
     "name": "stderr",
     "output_type": "stream",
     "text": [
      "  + Exception Group Traceback (most recent call last):\n",
      "  |   File \"/Users/svpino/dev/box-course/.venv/lib/python3.12/site-packages/IPython/core/interactiveshell.py\", line 3697, in run_code\n",
      "  |     await eval(code_obj, self.user_global_ns, self.user_ns)\n",
      "  |   File \"/var/folders/d2/qgdrwwkd46190hx5_bvrqc380000gn/T/ipykernel_95830/1915772850.py\", line 1, in <module>\n",
      "  |     async with stdio_client(server_params) as (read, write):\n",
      "  |                ^^^^^^^^^^^^^^^^^^^^^^^^^^^\n",
      "  |   File \"/Users/svpino/.local/share/uv/python/cpython-3.12.11-macos-aarch64-none/lib/python3.12/contextlib.py\", line 231, in __aexit__\n",
      "  |     await self.gen.athrow(value)\n",
      "  |   File \"/Users/svpino/dev/box-course/.venv/lib/python3.12/site-packages/mcp/client/stdio/__init__.py\", line 173, in stdio_client\n",
      "  |     anyio.create_task_group() as tg,\n",
      "  |     ^^^^^^^^^^^^^^^^^^^^^^^^^\n",
      "  |   File \"/Users/svpino/dev/box-course/.venv/lib/python3.12/site-packages/anyio/_backends/_asyncio.py\", line 772, in __aexit__\n",
      "  |     raise BaseExceptionGroup(\n",
      "  | ExceptionGroup: unhandled errors in a TaskGroup (1 sub-exception)\n",
      "  +-+---------------- 1 ----------------\n",
      "    | Exception Group Traceback (most recent call last):\n",
      "    |   File \"/Users/svpino/dev/box-course/.venv/lib/python3.12/site-packages/mcp/client/stdio/__init__.py\", line 179, in stdio_client\n",
      "    |     yield read_stream, write_stream\n",
      "    |   File \"/var/folders/d2/qgdrwwkd46190hx5_bvrqc380000gn/T/ipykernel_95830/1915772850.py\", line 2, in <module>\n",
      "    |     async with ClientSession(read, write) as session:\n",
      "    |                ^^^^^^^^^^^^^^^^^^^^^^^^^^\n",
      "    |   File \"/Users/svpino/dev/box-course/.venv/lib/python3.12/site-packages/mcp/shared/session.py\", line 218, in __aexit__\n",
      "    |     return await self._task_group.__aexit__(exc_type, exc_val, exc_tb)\n",
      "    |            ^^^^^^^^^^^^^^^^^^^^^^^^^^^^^^^^^^^^^^^^^^^^^^^^^^^^^^^^^^^\n",
      "    |   File \"/Users/svpino/dev/box-course/.venv/lib/python3.12/site-packages/anyio/_backends/_asyncio.py\", line 772, in __aexit__\n",
      "    |     raise BaseExceptionGroup(\n",
      "    | ExceptionGroup: unhandled errors in a TaskGroup (1 sub-exception)\n",
      "    +-+---------------- 1 ----------------\n",
      "      | Traceback (most recent call last):\n",
      "      |   File \"/var/folders/d2/qgdrwwkd46190hx5_bvrqc380000gn/T/ipykernel_95830/1915772850.py\", line 19, in <module>\n",
      "      |     invoice_data = await extract_invoice_fields(invoice, client, session, tools)\n",
      "      |                    ^^^^^^^^^^^^^^^^^^^^^^^^^^^^^^^^^^^^^^^^^^^^^^^^^^^^^^^^^^^^^\n",
      "      |   File \"/var/folders/d2/qgdrwwkd46190hx5_bvrqc380000gn/T/ipykernel_95830/2206470154.py\", line 15, in extract_invoice_fields\n",
      "      |     result = json.loads(response[0][\"answer\"])\n",
      "      |                         ~~~~~~~~~~~^^^^^^^^^^\n",
      "      | TypeError: string indices must be integers, not 'str'\n",
      "      +------------------------------------\n"
     ]
    }
   ],
   "source": [
    "async with stdio_client(server_params) as (read, write):\n",
    "    async with ClientSession(read, write) as session:\n",
    "        await session.initialize()\n",
    "        tools = await get_mcp_tools(session)\n",
    "\n",
    "        # Get the list of invoices from the Box folder.\n",
    "        invoices = await generate(\n",
    "            f\"List the content of the folder with id {BOX_FOLDER_ID}\",\n",
    "            client,\n",
    "            session,\n",
    "            tools,\n",
    "        )\n",
    "        print(f\"Found {len(invoices)} invoices\")\n",
    "\n",
    "        # Process each invoice and extract the required fields.\n",
    "        for invoice in invoices:\n",
    "            invoice_data = await extract_invoice_fields(invoice, client, session, tools)\n",
    "            print(f\"Extracted data: {invoice_data}\")\n",
    "            update_invoice_in_database(connection, invoice_data)"
   ]
  },
  {
   "cell_type": "markdown",
   "id": "b8c91621",
   "metadata": {},
   "source": [
    "## Generating final report\n",
    "\n",
    "Finally, we want to generate a report with the data that we stored in the database."
   ]
  },
  {
   "cell_type": "code",
   "execution_count": 14,
   "id": "51d1cce4",
   "metadata": {},
   "outputs": [
    {
     "name": "stdout",
     "output_type": "stream",
     "text": [
      "\n",
      "Invoice Report\n",
      "* Total invoices: 4\n",
      "* Total amount: 908.5\n",
      "\n",
      "Breakdown by client:\n",
      "* Acme Inc: 2 invoices ($800.0)\n",
      "* Santiago Valdarrama: 1 invoices ($15.0)\n",
      "* Test Business: 1 invoices ($93.5)\n"
     ]
    }
   ],
   "source": [
    "generate_report(connection)\n",
    "connection.close()"
   ]
  },
  {
   "cell_type": "code",
   "execution_count": null,
   "id": "1577c4a0",
   "metadata": {},
   "outputs": [],
   "source": []
  }
 ],
 "metadata": {
  "kernelspec": {
   "display_name": "box-course",
   "language": "python",
   "name": "python3"
  },
  "language_info": {
   "codemirror_mode": {
    "name": "ipython",
    "version": 3
   },
   "file_extension": ".py",
   "mimetype": "text/x-python",
   "name": "python",
   "nbconvert_exporter": "python",
   "pygments_lexer": "ipython3",
   "version": "3.12.11"
  }
 },
 "nbformat": 4,
 "nbformat_minor": 5
}
