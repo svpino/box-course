{
 "cells": [
  {
   "cell_type": "markdown",
   "id": "d0a4609c",
   "metadata": {},
   "source": [
    "# Processing invoices using Box's MCP Server"
   ]
  },
  {
   "cell_type": "code",
   "execution_count": 15,
   "id": "0c565356",
   "metadata": {},
   "outputs": [
    {
     "data": {
      "text/plain": [
       "True"
      ]
     },
     "execution_count": 15,
     "metadata": {},
     "output_type": "execute_result"
    }
   ],
   "source": [
    "import os\n",
    "import json\n",
    "from dotenv import load_dotenv\n",
    "from google import genai\n",
    "from google.genai import types\n",
    "from mcp import ClientSession, StdioServerParameters\n",
    "from mcp.client.stdio import stdio_client\n",
    "from database import setup_database, update_invoice_in_database, generate_report\n",
    "from model import generate\n",
    "\n",
    "load_dotenv(override=True)"
   ]
  },
  {
   "cell_type": "markdown",
   "id": "9064c418",
   "metadata": {},
   "source": [
    "Let's now configure a few settings that we'll use throughout the notebook."
   ]
  },
  {
   "cell_type": "code",
   "execution_count": 16,
   "id": "5a199e2a",
   "metadata": {},
   "outputs": [],
   "source": [
    "BOX_CLIENT_ID = os.getenv(\"BOX_CLIENT_ID\")\n",
    "BOX_CLIENT_SECRET = os.getenv(\"BOX_CLIENT_SECRET\")\n",
    "GEMINI_API_KEY = os.getenv(\"GEMINI_API_KEY\")\n",
    "BOX_FOLDER_ID = os.getenv(\"BOX_FOLDER_ID\")\n",
    "BOX_MCP_SERVER_PATH = \"/Users/svpino/dev/mcp-server-box\"\n",
    "BOX_MCP_TOOLS = [\n",
    "    \"box_who_am_i\",\n",
    "    \"box_list_folder_content_by_folder_id\",\n",
    "    \"box_ai_extract_tool\",\n",
    "]"
   ]
  },
  {
   "cell_type": "markdown",
   "id": "4034ffd8",
   "metadata": {},
   "source": [
    "## Configuring Box' MCP Server\n",
    "\n",
    "First, let's configure Gemini and prepare the connection to the Box's MCP Server."
   ]
  },
  {
   "cell_type": "code",
   "execution_count": 17,
   "id": "4e1c4e9b",
   "metadata": {},
   "outputs": [],
   "source": [
    "client = genai.Client(api_key=GEMINI_API_KEY)\n",
    "\n",
    "server_params = StdioServerParameters(\n",
    "    command=\"uv\",\n",
    "    args=[\n",
    "        \"--directory\",\n",
    "        BOX_MCP_SERVER_PATH,\n",
    "        \"run\",\n",
    "        \"src/mcp_server_box.py\",\n",
    "    ],\n",
    ")"
   ]
  },
  {
   "cell_type": "markdown",
   "id": "939c0588",
   "metadata": {},
   "source": [
    "Now, let's create a function to set up the list of MCP tools that will be used to interact with Box."
   ]
  },
  {
   "cell_type": "code",
   "execution_count": 18,
   "id": "17e3390a",
   "metadata": {},
   "outputs": [],
   "source": [
    "async def get_mcp_tools(session: ClientSession):\n",
    "    \"\"\"\n",
    "    Set up the list of MCP tools that will be used to interact with Box.\n",
    "    \"\"\"\n",
    "    mcp_tools = await session.list_tools()\n",
    "    return [\n",
    "        types.Tool(\n",
    "            function_declarations=[\n",
    "                {\n",
    "                    \"name\": tool.name,\n",
    "                    \"description\": tool.description,\n",
    "                    \"parameters\": {p: v for p, v in tool.inputSchema.items()},\n",
    "                }\n",
    "            ]\n",
    "        )\n",
    "        for tool in mcp_tools.tools\n",
    "        if tool.name in BOX_MCP_TOOLS\n",
    "    ]"
   ]
  },
  {
   "cell_type": "markdown",
   "id": "e8a801ad",
   "metadata": {},
   "source": [
    "## Processing invoices\n",
    "\n",
    "Let's start by defining the function that will extract the data from a given invoice."
   ]
  },
  {
   "cell_type": "code",
   "execution_count": 19,
   "id": "d53436d1",
   "metadata": {},
   "outputs": [],
   "source": [
    "async def extract_invoice_fields(\n",
    "    invoice: dict, client: genai.Client, session: ClientSession, tools: list\n",
    "):\n",
    "    \"\"\"\n",
    "    Extract data from the given invoice.\n",
    "    \"\"\"\n",
    "    print(f'Extracting data from invoice \"{invoice[\"name\"]}\"...')\n",
    "    prompt = (\n",
    "        \"Extract the following fields from the invoice \"\n",
    "        f\"with file_id {invoice['id']}: \"\n",
    "        \"client_name, invoice_amount, product_name. \"\n",
    "        \"Return the invoice_amount as a float. \"\n",
    "    )\n",
    "    response = await generate(prompt, client, session, tools)\n",
    "    result = json.loads(response[0][\"answer\"])\n",
    "    result[\"file\"] = invoice[\"name\"]\n",
    "    return result\n"
   ]
  },
  {
   "cell_type": "markdown",
   "id": "d69ba2a1",
   "metadata": {},
   "source": [
    "Let's set up the database where we'll store the information of every invoice."
   ]
  },
  {
   "cell_type": "code",
   "execution_count": 20,
   "id": "7242f2fc",
   "metadata": {},
   "outputs": [],
   "source": [
    "connection = setup_database()"
   ]
  },
  {
   "cell_type": "markdown",
   "id": "ad332c15",
   "metadata": {},
   "source": [
    "Let's create a Gemini session with access to Box's MCP Server, list the invoices stored in Box and extract the data from each of them."
   ]
  },
  {
   "cell_type": "code",
   "execution_count": 21,
   "id": "ab2b6375",
   "metadata": {},
   "outputs": [
    {
     "name": "stdout",
     "output_type": "stream",
     "text": [
      "[Calling MCP Tool: \"box_list_folder_content_by_folder_id\"]\n",
      "Found 4 invoices\n",
      "Extracting data from invoice \"Invoice-ETOX6AZS-0004.pdf\"...\n",
      "[Calling MCP Tool: \"box_ai_extract_tool\"]\n",
      "Extracted data: {'client_name': 'Santiago Valdarrama', 'invoice_amount': '15.00', 'product_name': 'myproduct', 'file': 'Invoice-ETOX6AZS-0004.pdf'}\n",
      "Updating database with invoice Invoice-ETOX6AZS-0004.pdf...\n",
      "Extracting data from invoice \"Invoice-JV3QQ0DZ-0005.pdf\"...\n",
      "[Calling MCP Tool: \"box_ai_extract_tool\"]\n",
      "Extracted data: {'client_name': 'Acme Inc', 'invoice_amount': 400.0, 'product_name': 'Machine Learning School', 'file': 'Invoice-JV3QQ0DZ-0005.pdf'}\n",
      "Updating database with invoice Invoice-JV3QQ0DZ-0005.pdf...\n",
      "Extracting data from invoice \"Invoice-JV3QQ0DZ-0006.pdf\"...\n",
      "[Calling MCP Tool: \"box_ai_extract_tool\"]\n",
      "Extracted data: {'client_name': 'Acme Inc', 'invoice_amount': 400.0, 'product_name': 'Machine Learning School', 'file': 'Invoice-JV3QQ0DZ-0006.pdf'}\n",
      "Updating database with invoice Invoice-JV3QQ0DZ-0006.pdf...\n",
      "Extracting data from invoice \"Wordpress.pdf\"...\n",
      "[Calling MCP Tool: \"box_ai_extract_tool\"]\n",
      "Extracted data: {'client_name': 'Test Business', 'invoice_amount': 93.5, 'product_name': 'Web Design', 'file': 'Wordpress.pdf'}\n",
      "Updating database with invoice Wordpress.pdf...\n"
     ]
    }
   ],
   "source": [
    "async with stdio_client(server_params) as (read, write):\n",
    "    async with ClientSession(read, write) as session:\n",
    "        await session.initialize()\n",
    "        tools = await get_mcp_tools(session)\n",
    "\n",
    "        # Get the list of invoices from the Box folder.\n",
    "        invoices = await generate(\n",
    "            f\"List the content of the folder with id {BOX_FOLDER_ID}\",\n",
    "            client,\n",
    "            session,\n",
    "            tools,\n",
    "        )\n",
    "        print(f\"Found {len(invoices)} invoices\")\n",
    "\n",
    "        # Process each invoice and extract the required fields.\n",
    "        for invoice in invoices:\n",
    "            invoice_data = await extract_invoice_fields(invoice, client, session, tools)\n",
    "            print(f\"Extracted data: {invoice_data}\")\n",
    "            update_invoice_in_database(connection, invoice_data)"
   ]
  },
  {
   "cell_type": "markdown",
   "id": "b8c91621",
   "metadata": {},
   "source": [
    "## Generating final report\n",
    "\n",
    "Finally, we want to generate a report with the data that we stored in the database."
   ]
  },
  {
   "cell_type": "code",
   "execution_count": 14,
   "id": "51d1cce4",
   "metadata": {},
   "outputs": [
    {
     "name": "stdout",
     "output_type": "stream",
     "text": [
      "\n",
      "Invoice Report\n",
      "* Total invoices: 4\n",
      "* Total amount: 908.5\n",
      "\n",
      "Breakdown by client:\n",
      "* Acme Inc: 2 invoices ($800.0)\n",
      "* Santiago Valdarrama: 1 invoices ($15.0)\n",
      "* Test Business: 1 invoices ($93.5)\n"
     ]
    }
   ],
   "source": [
    "generate_report(connection)\n",
    "connection.close()"
   ]
  },
  {
   "cell_type": "code",
   "execution_count": null,
   "id": "1577c4a0",
   "metadata": {},
   "outputs": [],
   "source": []
  }
 ],
 "metadata": {
  "kernelspec": {
   "display_name": "box-course",
   "language": "python",
   "name": "python3"
  },
  "language_info": {
   "codemirror_mode": {
    "name": "ipython",
    "version": 3
   },
   "file_extension": ".py",
   "mimetype": "text/x-python",
   "name": "python",
   "nbconvert_exporter": "python",
   "pygments_lexer": "ipython3",
   "version": "3.12.11"
  }
 },
 "nbformat": 4,
 "nbformat_minor": 5
}
