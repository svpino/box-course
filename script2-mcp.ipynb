{
 "cells": [
  {
   "cell_type": "markdown",
   "id": "d0a4609c",
   "metadata": {},
   "source": [
    "# Processing Invoices Using Box's MCP Server"
   ]
  },
  {
   "cell_type": "code",
   "execution_count": 23,
   "id": "0c565356",
   "metadata": {},
   "outputs": [
    {
     "data": {
      "text/plain": [
       "True"
      ]
     },
     "execution_count": 23,
     "metadata": {},
     "output_type": "execute_result"
    }
   ],
   "source": [
    "import os\n",
    "import json\n",
    "import sqlite3\n",
    "from dotenv import load_dotenv\n",
    "from google import genai\n",
    "from google.genai import types\n",
    "from mcp import ClientSession, StdioServerParameters\n",
    "from mcp.client.stdio import stdio_client\n",
    "\n",
    "load_dotenv(override=True)"
   ]
  },
  {
   "cell_type": "markdown",
   "id": "9064c418",
   "metadata": {},
   "source": [
    "Let's now configure a few settings that we'll use throughout the notebook."
   ]
  },
  {
   "cell_type": "code",
   "execution_count": null,
   "id": "5a199e2a",
   "metadata": {},
   "outputs": [],
   "source": [
    "MODEL_NAME = \"gemini-2.5-flash\"\n",
    "BOX_MCP_SERVER_PATH = \"/Users/svpino/dev/mcp-server-box\"\n",
    "BOX_MCP_TOOLS = [\n",
    "    \"box_list_folder_content_by_folder_id\",\n",
    "    \"box_ai_extract_tool\",\n",
    "]\n",
    "\n",
    "GEMINI_API_KEY = os.getenv(\"GEMINI_API_KEY\")\n",
    "BOX_FOLDER_ID = os.getenv(\"BOX_FOLDER_ID\")"
   ]
  },
  {
   "cell_type": "markdown",
   "id": "4034ffd8",
   "metadata": {},
   "source": [
    "## Configuring Box' MCP Server\n",
    "\n",
    "First, let's configure Gemini and prepare the connection to the Box's MCP Server."
   ]
  },
  {
   "cell_type": "code",
   "execution_count": 25,
   "id": "4e1c4e9b",
   "metadata": {},
   "outputs": [],
   "source": [
    "client = genai.Client(api_key=GEMINI_API_KEY)\n",
    "\n",
    "server_params = StdioServerParameters(\n",
    "    command=\"uv\",\n",
    "    args=[\n",
    "        \"--directory\",\n",
    "        BOX_MCP_SERVER_PATH,\n",
    "        \"run\",\n",
    "        \"src/mcp_server_box.py\",\n",
    "    ],\n",
    ")"
   ]
  },
  {
   "cell_type": "markdown",
   "id": "939c0588",
   "metadata": {},
   "source": [
    "Now, let's create a function to set up the list of MCP tools that will be used to interact with Box."
   ]
  },
  {
   "cell_type": "code",
   "execution_count": 26,
   "id": "17e3390a",
   "metadata": {},
   "outputs": [],
   "source": [
    "async def get_mcp_tools(session: ClientSession):\n",
    "    \"\"\"\n",
    "    Set up the list of MCP tools that will be used to interact with Box.\n",
    "    \"\"\"\n",
    "    mcp_tools = await session.list_tools()\n",
    "    return [\n",
    "        types.Tool(\n",
    "            function_declarations=[\n",
    "                {\n",
    "                    \"name\": tool.name,\n",
    "                    \"description\": tool.description,\n",
    "                    \"parameters\": {p: v for p, v in tool.inputSchema.items()},\n",
    "                }\n",
    "            ]\n",
    "        )\n",
    "        for tool in mcp_tools.tools\n",
    "        if tool.name in BOX_MCP_TOOLS\n",
    "    ]"
   ]
  },
  {
   "cell_type": "markdown",
   "id": "e8a801ad",
   "metadata": {},
   "source": [
    "## Processing invoices\n",
    "\n",
    "Let's start by defining a helper function that will help us process JSON results from Gemini."
   ]
  },
  {
   "cell_type": "code",
   "execution_count": 27,
   "id": "9b283b85",
   "metadata": {},
   "outputs": [],
   "source": [
    "def parse_json(content):\n",
    "    # Try parsing as pure JSON first\n",
    "    try:\n",
    "        return json.loads(content)\n",
    "    except json.JSONDecodeError:\n",
    "        pass\n",
    "\n",
    "    # If that fails, try to extract JSON from the text\n",
    "    # Look for JSON-like content between curly braces\n",
    "    import re\n",
    "\n",
    "    json_match = re.search(r\"\\{.*\\}\", content, re.DOTALL)\n",
    "    if json_match:\n",
    "        try:\n",
    "            return json.loads(json_match.group())\n",
    "        except json.JSONDecodeError:\n",
    "            pass\n",
    "\n",
    "    # If all else fails, return the original text\n",
    "    return content"
   ]
  },
  {
   "cell_type": "markdown",
   "id": "7d7e3808",
   "metadata": {},
   "source": [
    "Since we are going to be using Box's MCP Server, let's create a function that will help us call Gemini using the tools provided by the MCP Server."
   ]
  },
  {
   "cell_type": "code",
   "execution_count": 28,
   "id": "8d84d548",
   "metadata": {},
   "outputs": [],
   "source": [
    "async def generate(\n",
    "    prompt: str, client: genai.Client, session: ClientSession = None, tools: list = None\n",
    "):\n",
    "    \"\"\"\n",
    "    Generate content using the Gemini model using MCP tools if provided.\n",
    "    \"\"\"\n",
    "\n",
    "    def parse_content(content):\n",
    "        try:\n",
    "            return parse_json(content.text)\n",
    "        except json.JSONDecodeError:\n",
    "            return content.text\n",
    "\n",
    "    config = (\n",
    "        types.GenerateContentConfig(temperature=0, tools=tools)\n",
    "        if session is not None and tools is not None\n",
    "        else None\n",
    "    )\n",
    "\n",
    "    response = client.models.generate_content(\n",
    "        model=MODEL_NAME,\n",
    "        contents=prompt,\n",
    "        config=config,\n",
    "    )\n",
    "\n",
    "    if response.candidates[0].content.parts[0].function_call:\n",
    "        print(\n",
    "            f'[Calling MCP Tool: \"{response.candidates[0].content.parts[0].function_call.name}\"]'\n",
    "        )\n",
    "        function_call = response.candidates[0].content.parts[0].function_call\n",
    "        response = await session.call_tool(\n",
    "            function_call.name, arguments=dict(function_call.args)\n",
    "        )\n",
    "\n",
    "        return [parse_content(content) for content in response.content]\n",
    "\n",
    "    return response.candidates[0].content.parts[0].text"
   ]
  },
  {
   "cell_type": "markdown",
   "id": "8f3ef265",
   "metadata": {},
   "source": [
    "Let's define a function that extracts the data from a given invoice. This function will use Box's MCP Server to do that."
   ]
  },
  {
   "cell_type": "code",
   "execution_count": 29,
   "id": "d53436d1",
   "metadata": {},
   "outputs": [],
   "source": [
    "async def extract_invoice_fields(\n",
    "    invoice: dict, client: genai.Client, session: ClientSession, tools: list\n",
    "):\n",
    "    \"\"\"\n",
    "    Extract data from the given invoice.\n",
    "    \"\"\"\n",
    "    print(f'Extracting data from invoice \"{invoice[\"name\"]}\"...')\n",
    "    prompt = (\n",
    "        \"Extract the following fields from the invoice \"\n",
    "        f\"with file_id {invoice['id']}: \"\n",
    "        \"client_name, invoice_amount, product_name. \"\n",
    "        \"Return the invoice_amount as a float. \"\n",
    "    )\n",
    "    response = await generate(prompt, client, session, tools)\n",
    "    result = json.loads(response[0][\"answer\"])\n",
    "    result[\"file\"] = invoice[\"name\"]\n",
    "    return result\n"
   ]
  },
  {
   "cell_type": "markdown",
   "id": "d69ba2a1",
   "metadata": {},
   "source": [
    "Let's set up the database where we'll store the information of every invoice."
   ]
  },
  {
   "cell_type": "code",
   "execution_count": 30,
   "id": "7242f2fc",
   "metadata": {},
   "outputs": [],
   "source": [
    "connection = sqlite3.connect(\"invoices.db\")\n",
    "cursor = connection.cursor()\n",
    "cursor.execute(\"\"\"\n",
    "    CREATE TABLE IF NOT EXISTS invoices (\n",
    "        file TEXT PRIMARY KEY UNIQUE,\n",
    "        client TEXT,\n",
    "        amount REAL,\n",
    "        product TEXT\n",
    "    )\n",
    "\"\"\")\n",
    "connection.commit()"
   ]
  },
  {
   "cell_type": "markdown",
   "id": "ad332c15",
   "metadata": {},
   "source": [
    "Let's create a Gemini session with access to Box's MCP Server, list the invoices stored in Box and extract the data from each of them."
   ]
  },
  {
   "cell_type": "code",
   "execution_count": 31,
   "id": "ab2b6375",
   "metadata": {},
   "outputs": [
    {
     "name": "stdout",
     "output_type": "stream",
     "text": [
      "[Calling MCP Tool: \"box_list_folder_content_by_folder_id\"]\n",
      "Found 4 invoices\n",
      "Extracting data from invoice \"Invoice-ETOX6AZS-0004.pdf\"...\n",
      "[Calling MCP Tool: \"box_ai_extract_tool\"]\n",
      "Extracted data: {'client_name': 'Santiago Valdarrama', 'invoice_amount': 15.0, 'product_name': 'myproduct', 'file': 'Invoice-ETOX6AZS-0004.pdf'}\n",
      "Extracting data from invoice \"Invoice-JV3QQ0DZ-0005.pdf\"...\n",
      "[Calling MCP Tool: \"box_ai_extract_tool\"]\n",
      "Extracted data: {'client_name': 'Acme Inc', 'invoice_amount': 400.0, 'product_name': 'Machine Learning School', 'file': 'Invoice-JV3QQ0DZ-0005.pdf'}\n",
      "Extracting data from invoice \"Invoice-JV3QQ0DZ-0006.pdf\"...\n",
      "[Calling MCP Tool: \"box_ai_extract_tool\"]\n",
      "Extracted data: {'client_name': 'Acme Inc', 'invoice_amount': 400.0, 'product_name': 'Machine Learning School', 'file': 'Invoice-JV3QQ0DZ-0006.pdf'}\n",
      "Extracting data from invoice \"Wordpress.pdf\"...\n",
      "[Calling MCP Tool: \"box_ai_extract_tool\"]\n",
      "Extracted data: {'client_name': 'Test Business', 'invoice_amount': 93.5, 'product_name': 'Web Design', 'file': 'Wordpress.pdf'}\n"
     ]
    }
   ],
   "source": [
    "async with stdio_client(server_params) as (read, write):\n",
    "    async with ClientSession(read, write) as session:\n",
    "        await session.initialize()\n",
    "        tools = await get_mcp_tools(session)\n",
    "\n",
    "        # Get the list of invoices from the Box folder.\n",
    "        invoices = await generate(\n",
    "            f\"List the content of the folder with id {BOX_FOLDER_ID}\",\n",
    "            client,\n",
    "            session,\n",
    "            tools,\n",
    "        )\n",
    "        print(f\"Found {len(invoices)} invoices\")\n",
    "\n",
    "        cursor = connection.cursor()\n",
    "\n",
    "        # Process each invoice and extract the required fields.\n",
    "        for invoice in invoices:\n",
    "            invoice_data = await extract_invoice_fields(invoice, client, session, tools)\n",
    "            print(f\"Extracted data: {invoice_data}\")\n",
    "\n",
    "            cursor.execute(\n",
    "                \"\"\"\n",
    "                INSERT INTO invoices (file, client, amount, product)\n",
    "                VALUES (?, ?, ?, ?)\n",
    "                ON CONFLICT(file) DO UPDATE SET\n",
    "                    client=excluded.client,\n",
    "                    amount=excluded.amount,\n",
    "                    product=excluded.product\n",
    "                \"\"\",\n",
    "                (\n",
    "                    invoice_data[\"file\"],\n",
    "                    invoice_data[\"client_name\"],\n",
    "                    invoice_data[\"invoice_amount\"],\n",
    "                    invoice_data[\"product_name\"],\n",
    "                ),\n",
    "            )\n",
    "        \n",
    "        connection.commit()"
   ]
  },
  {
   "cell_type": "markdown",
   "id": "b8c91621",
   "metadata": {},
   "source": [
    "## Generating final reports\n",
    "\n",
    "Finally, we want to generate a couple of reports with the data that we stored in the database."
   ]
  },
  {
   "cell_type": "code",
   "execution_count": 32,
   "id": "51d1cce4",
   "metadata": {},
   "outputs": [
    {
     "name": "stdout",
     "output_type": "stream",
     "text": [
      "\n",
      "Invoice Report\n",
      "* Total invoices: 4\n",
      "* Total amount: 908.5\n",
      "\n",
      "Breakdown by client:\n",
      "* Acme Inc: 2 invoices ($800.0)\n",
      "* Santiago Valdarrama: 1 invoices ($15.0)\n",
      "* Test Business: 1 invoices ($93.5)\n"
     ]
    }
   ],
   "source": [
    "print(\"\\nInvoice Report\")\n",
    "\n",
    "cursor = connection.cursor()\n",
    "cursor.execute(\"SELECT COUNT(*), SUM(amount) FROM invoices\")\n",
    "total_invoices, total_amount = cursor.fetchone()\n",
    "\n",
    "print(f\"* Total invoices: {total_invoices}\")\n",
    "print(f\"* Total amount: {total_amount}\")\n",
    "\n",
    "print(\"\\nBreakdown by client:\")\n",
    "cursor.execute(\"SELECT client, COUNT(*), SUM(amount) FROM invoices GROUP BY client\")\n",
    "for row in cursor.fetchall():\n",
    "    client, count, amount = row\n",
    "    print(f\"* {client}: {count} invoices (${amount})\")\n",
    "\n",
    "connection.close()"
   ]
  },
  {
   "cell_type": "code",
   "execution_count": null,
   "id": "1577c4a0",
   "metadata": {},
   "outputs": [],
   "source": []
  }
 ],
 "metadata": {
  "kernelspec": {
   "display_name": "box-course",
   "language": "python",
   "name": "python3"
  },
  "language_info": {
   "codemirror_mode": {
    "name": "ipython",
    "version": 3
   },
   "file_extension": ".py",
   "mimetype": "text/x-python",
   "name": "python",
   "nbconvert_exporter": "python",
   "pygments_lexer": "ipython3",
   "version": "3.12.11"
  }
 },
 "nbformat": 4,
 "nbformat_minor": 5
}
