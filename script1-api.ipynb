{
 "cells": [
  {
   "cell_type": "markdown",
   "id": "6cad2ce0",
   "metadata": {},
   "source": [
    "# Processing Invoices Using The Box API"
   ]
  },
  {
   "cell_type": "code",
   "execution_count": null,
   "id": "1a8bec3b",
   "metadata": {},
   "outputs": [],
   "source": [
    "import json\n",
    "import os\n",
    "import sqlite3\n",
    "from box_sdk_gen import BoxClient, BoxCCGAuth, CCGConfig\n",
    "from dotenv import load_dotenv\n",
    "from google import genai\n",
    "from PyPDF2 import PdfReader\n",
    "\n",
    "load_dotenv(override=True)"
   ]
  },
  {
   "cell_type": "markdown",
   "id": "1f7de9f7",
   "metadata": {},
   "source": [
    "The first step is to configure a few settings that we'll use throughout the notebook."
   ]
  },
  {
   "cell_type": "code",
   "execution_count": null,
   "id": "f28dcfdc",
   "metadata": {},
   "outputs": [],
   "source": [
    "MODEL_NAME = \"gemini-2.5-flash\"\n",
    "LOCAL_INVOICE_FOLDER = \"invoices\"\n",
    "\n",
    "BOX_FOLDER_ID = os.getenv(\"BOX_FOLDER_ID\")\n",
    "BOX_CLIENT_ID = os.getenv(\"BOX_CLIENT_ID\")\n",
    "BOX_CLIENT_SECRET = os.getenv(\"BOX_CLIENT_SECRET\")\n",
    "BOX_SUBJECT_ID = os.getenv(\"BOX_SUBJECT_ID\")\n",
    "GEMINI_API_KEY = os.getenv(\"GEMINI_API_KEY\")"
   ]
  },
  {
   "cell_type": "markdown",
   "id": "f0656210",
   "metadata": {},
   "source": [
    "We need to configure a `client` object to access the Box API. We'll use a developer token to authorize our code."
   ]
  },
  {
   "cell_type": "code",
   "execution_count": null,
   "id": "b316c77b",
   "metadata": {},
   "outputs": [],
   "source": [
    "ccg_config: CCGConfig = CCGConfig(\n",
    "    client_id=BOX_CLIENT_ID,\n",
    "    client_secret=BOX_CLIENT_SECRET,\n",
    "    enterprise_id=BOX_SUBJECT_ID\n",
    ")\n",
    "auth: BoxCCGAuth = BoxCCGAuth(config=ccg_config)\n",
    "\n",
    "client: BoxClient = BoxClient(auth=auth)"
   ]
  },
  {
   "cell_type": "markdown",
   "id": "27aec62f",
   "metadata": {},
   "source": [
    "## Downloading invoices\n",
    "\n",
    "Let's start by downloading every invoice in Box to a local folder so we can later process them.\n",
    "\n",
    "The first step is to return the list of all available invoices in the Box folder."
   ]
  },
  {
   "cell_type": "code",
   "execution_count": null,
   "id": "21f947bc",
   "metadata": {},
   "outputs": [],
   "source": [
    "files = []\n",
    "for item in client.folders.get_folder_items(BOX_FOLDER_ID).entries:\n",
    "    files.append(item)\n",
    "\n",
    "print(f\"Found {len(files)} invoices in Box folder {BOX_FOLDER_ID}.\")"
   ]
  },
  {
   "cell_type": "markdown",
   "id": "9445de0c",
   "metadata": {},
   "source": [
    "Let's create the local folder where we'll store every invoice."
   ]
  },
  {
   "cell_type": "code",
   "execution_count": null,
   "id": "154d91d7",
   "metadata": {},
   "outputs": [],
   "source": [
    "os.makedirs(LOCAL_INVOICE_FOLDER, exist_ok=True)"
   ]
  },
  {
   "cell_type": "markdown",
   "id": "355aef8e",
   "metadata": {},
   "source": [
    "Now, we can download every invoice from Box to a local folder. If an invoice file already exists in the local folder, we are going to skip it."
   ]
  },
  {
   "cell_type": "code",
   "execution_count": null,
   "id": "7c7d5f1a",
   "metadata": {},
   "outputs": [],
   "source": [
    "for invoice in files:\n",
    "    local_path = os.path.join(LOCAL_INVOICE_FOLDER, invoice.name)\n",
    "    if not os.path.exists(local_path):\n",
    "        print(f\"Downloading {invoice.name}...\")\n",
    "        stream = client.downloads.download_file(invoice.id)\n",
    "        with open(local_path, \"wb\") as f:\n",
    "            for chunk in stream:\n",
    "                f.write(chunk)\n",
    "    else:\n",
    "        print(f\"{invoice.name} already exists in the local folder.\")"
   ]
  },
  {
   "cell_type": "markdown",
   "id": "5b6635c1",
   "metadata": {},
   "source": [
    "## Processing invoices\n",
    "\n",
    "Once we have every invoice locally stored, we can loop and process them one by one to extract their information.\n",
    "\n",
    "Let's start by defining a helper function that will help us process JSON results from Gemini."
   ]
  },
  {
   "cell_type": "code",
   "execution_count": null,
   "id": "cdcfdbd4",
   "metadata": {},
   "outputs": [],
   "source": [
    "def parse_json(content):\n",
    "    # Try parsing as pure JSON first\n",
    "    try:\n",
    "        return json.loads(content)\n",
    "    except json.JSONDecodeError:\n",
    "        pass\n",
    "\n",
    "    # If that fails, try to extract JSON from the text\n",
    "    # Look for JSON-like content between curly braces\n",
    "    import re\n",
    "\n",
    "    json_match = re.search(r\"\\{.*\\}\", content, re.DOTALL)\n",
    "    if json_match:\n",
    "        try:\n",
    "            return json.loads(json_match.group())\n",
    "        except json.JSONDecodeError:\n",
    "            pass\n",
    "\n",
    "    # If all else fails, return the original text\n",
    "    return content"
   ]
  },
  {
   "cell_type": "markdown",
   "id": "ba664f71",
   "metadata": {},
   "source": [
    "Now, let's create a function that we'll extract the fields from a given invoice."
   ]
  },
  {
   "cell_type": "code",
   "execution_count": null,
   "id": "9c1dbbf6",
   "metadata": {},
   "outputs": [],
   "source": [
    "def extract_invoice_fields(file: str, invoice: str):\n",
    "    \"\"\"\n",
    "    Extract data from the supplied invoice text.\n",
    "    \"\"\"\n",
    "    print(f\"Extracting data from invoice {file}...\")\n",
    "    client = genai.Client(api_key=GEMINI_API_KEY)\n",
    "\n",
    "    prompt = (\n",
    "        \"Extract the following information from this invoice text: \"\n",
    "        \"1. Client name \"\n",
    "        \"2. Invoice amount \"\n",
    "        \"3. Product name \"\n",
    "        \"Return the result as a JSON object.\"\n",
    "        \"Use the the following keys: \"\n",
    "        \"1. client_name (string) \"\n",
    "        \"2. invoice_amount (float) \"\n",
    "        \"3. product_name (string) \"\n",
    "        \"If the information is not found, return 'null' for the corresponding key.\\n\"\n",
    "        f\"Invoice text:\\n{invoice}\"\n",
    "    )\n",
    "\n",
    "    try:\n",
    "        response = client.models.generate_content(model=MODEL_NAME, contents=prompt)\n",
    "        result = parse_json(response.candidates[0].content.parts[0].text)\n",
    "        result[\"file\"] = file\n",
    "        print(json.dumps(result, indent=4))\n",
    "        return result\n",
    "    except Exception as e:\n",
    "        print(f\"Failed to extract data using Gemini. Exception:{e}\")"
   ]
  },
  {
   "cell_type": "markdown",
   "id": "79839738",
   "metadata": {},
   "source": [
    "Let's set up the database where we'll store the information of every invoice."
   ]
  },
  {
   "cell_type": "code",
   "execution_count": null,
   "id": "0eba2358",
   "metadata": {},
   "outputs": [],
   "source": [
    "connection = sqlite3.connect(\"invoices.db\")\n",
    "cursor = connection.cursor()\n",
    "cursor.execute(\"\"\"\n",
    "    CREATE TABLE IF NOT EXISTS invoices (\n",
    "        file TEXT PRIMARY KEY UNIQUE,\n",
    "        client TEXT,\n",
    "        amount REAL,\n",
    "        product TEXT\n",
    "    )\n",
    "\"\"\")\n",
    "connection.commit()"
   ]
  },
  {
   "cell_type": "markdown",
   "id": "4321a463",
   "metadata": {},
   "source": [
    "Let's now process all invoices in the local folder and extract the appropriate fields. After we process an invoice, we'll update the database with all of its data."
   ]
  },
  {
   "cell_type": "code",
   "execution_count": null,
   "id": "a28c0e80",
   "metadata": {},
   "outputs": [],
   "source": [
    "cursor = connection.cursor()\n",
    "\n",
    "for file in os.listdir(LOCAL_INVOICE_FOLDER):\n",
    "    if file.endswith(\".pdf\"):\n",
    "        print(f\"\\nProcessing {file}...\")\n",
    "        try:\n",
    "            reader = PdfReader(os.path.join(LOCAL_INVOICE_FOLDER, file))\n",
    "            text = \"\"\n",
    "            for page in reader.pages:\n",
    "                text += page.extract_text() or \"\"\n",
    "\n",
    "            data = extract_invoice_fields(file, text)\n",
    "\n",
    "            print(f\"Updating database with invoice {data['file']}...\")\n",
    "            cursor.execute(\n",
    "                \"\"\"\n",
    "                INSERT INTO invoices (file, client, amount, product)\n",
    "                VALUES (?, ?, ?, ?)\n",
    "                ON CONFLICT(file) DO UPDATE SET\n",
    "                    client=excluded.client,\n",
    "                    amount=excluded.amount,\n",
    "                    product=excluded.product\n",
    "                \"\"\",\n",
    "                (\n",
    "                    data[\"file\"],\n",
    "                    data[\"client_name\"],\n",
    "                    data[\"invoice_amount\"],\n",
    "                    data[\"product_name\"],\n",
    "                ),\n",
    "            )\n",
    "        except Exception as e:\n",
    "            print(f\"Failed to extract text from {file}. Exception: {e}\")\n",
    "\n",
    "connection.commit()"
   ]
  },
  {
   "cell_type": "markdown",
   "id": "f58ced49",
   "metadata": {},
   "source": [
    "## Generating final reports\n",
    "\n",
    "Finally, we want to generate a couple of reports with the data that we stored in the database."
   ]
  },
  {
   "cell_type": "code",
   "execution_count": null,
   "id": "4ba6f998",
   "metadata": {},
   "outputs": [],
   "source": [
    "print(\"\\nInvoice Report\")\n",
    "\n",
    "cursor = connection.cursor()\n",
    "cursor.execute(\"SELECT COUNT(*), SUM(amount) FROM invoices\")\n",
    "total_invoices, total_amount = cursor.fetchone()\n",
    "\n",
    "print(f\"* Total invoices: {total_invoices}\")\n",
    "print(f\"* Total amount: {total_amount}\")\n",
    "\n",
    "print(\"\\nBreakdown by client:\")\n",
    "cursor.execute(\"SELECT client, COUNT(*), SUM(amount) FROM invoices GROUP BY client\")\n",
    "for row in cursor.fetchall():\n",
    "    client, count, amount = row\n",
    "    print(f\"* {client}: {count} invoices (${amount})\")\n",
    "\n",
    "connection.close()"
   ]
  },
  {
   "cell_type": "code",
   "execution_count": null,
   "id": "f6974a4d",
   "metadata": {},
   "outputs": [],
   "source": []
  }
 ],
 "metadata": {
  "kernelspec": {
   "display_name": "Python 3 (ipykernel)",
   "language": "python",
   "name": "python3"
  },
  "language_info": {
   "codemirror_mode": {
    "name": "ipython",
    "version": 3
   },
   "file_extension": ".py",
   "mimetype": "text/x-python",
   "name": "python",
   "nbconvert_exporter": "python",
   "pygments_lexer": "ipython3",
   "version": "3.12.9"
  }
 },
 "nbformat": 4,
 "nbformat_minor": 5
}
