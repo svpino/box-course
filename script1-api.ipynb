{
 "cells": [
  {
   "cell_type": "markdown",
   "id": "6cad2ce0",
   "metadata": {},
   "source": [
    "# Processing invoices using the Box API"
   ]
  },
  {
   "cell_type": "code",
   "execution_count": 12,
   "id": "1a8bec3b",
   "metadata": {},
   "outputs": [
    {
     "data": {
      "text/plain": [
       "True"
      ]
     },
     "execution_count": 12,
     "metadata": {},
     "output_type": "execute_result"
    }
   ],
   "source": [
    "import json\n",
    "import os\n",
    "\n",
    "from box_sdk_gen import BoxClient, BoxDeveloperTokenAuth\n",
    "from dotenv import load_dotenv\n",
    "from google import genai\n",
    "from PyPDF2 import PdfReader\n",
    "\n",
    "from database import generate_report, setup_database, update_invoice_in_database\n",
    "from model import generate, parse_json\n",
    "\n",
    "load_dotenv(override=True)"
   ]
  },
  {
   "cell_type": "markdown",
   "id": "1f7de9f7",
   "metadata": {},
   "source": [
    "Let's now configure a few settings that we'll use throughout the notebook."
   ]
  },
  {
   "cell_type": "code",
   "execution_count": 13,
   "id": "f28dcfdc",
   "metadata": {},
   "outputs": [],
   "source": [
    "BOX_FOLDER_ID = os.getenv(\"BOX_FOLDER_ID\")\n",
    "BOX_DEVELOPER_TOKEN = os.getenv(\"BOX_DEVELOPER_TOKEN\")\n",
    "GEMINI_API_KEY = os.getenv(\"GEMINI_API_KEY\")\n",
    "LOCAL_INVOICE_FOLDER = \"invoices\""
   ]
  },
  {
   "cell_type": "markdown",
   "id": "f0656210",
   "metadata": {},
   "source": [
    "We need to configure a `client` object to access the Box API. We'll use a developer token to authorize our code."
   ]
  },
  {
   "cell_type": "code",
   "execution_count": 14,
   "id": "b316c77b",
   "metadata": {},
   "outputs": [],
   "source": [
    "auth: BoxDeveloperTokenAuth = BoxDeveloperTokenAuth(token=BOX_DEVELOPER_TOKEN)\n",
    "client: BoxClient = BoxClient(auth=auth)"
   ]
  },
  {
   "cell_type": "markdown",
   "id": "27aec62f",
   "metadata": {},
   "source": [
    "## Downloading invoices\n",
    "\n",
    "Let's start by downloading every invoice in Box to a local folder so we can later process them.\n",
    "\n",
    "The first step is to return the list of all available invoices in the Box folder."
   ]
  },
  {
   "cell_type": "code",
   "execution_count": 18,
   "id": "21f947bc",
   "metadata": {},
   "outputs": [
    {
     "name": "stdout",
     "output_type": "stream",
     "text": [
      "Found 4 invoices in Box folder 330387637830.\n"
     ]
    }
   ],
   "source": [
    "files = []\n",
    "for item in client.folders.get_folder_items(BOX_FOLDER_ID).entries:\n",
    "    files.append(item)\n",
    "\n",
    "print(f\"Found {len(files)} invoices in Box folder {BOX_FOLDER_ID}.\")"
   ]
  },
  {
   "cell_type": "markdown",
   "id": "9445de0c",
   "metadata": {},
   "source": [
    "Let's create the local folder where we'll store every invoice."
   ]
  },
  {
   "cell_type": "code",
   "execution_count": 19,
   "id": "154d91d7",
   "metadata": {},
   "outputs": [],
   "source": [
    "os.makedirs(LOCAL_INVOICE_FOLDER, exist_ok=True)"
   ]
  },
  {
   "cell_type": "markdown",
   "id": "355aef8e",
   "metadata": {},
   "source": [
    "Now, we can download every invoice from Box to a local folder. If an invoice file already exists in the local folder, we are going to skip it."
   ]
  },
  {
   "cell_type": "code",
   "execution_count": 20,
   "id": "7c7d5f1a",
   "metadata": {},
   "outputs": [
    {
     "name": "stdout",
     "output_type": "stream",
     "text": [
      "Downloading Invoice-ETOX6AZS-0004.pdf...\n",
      "Downloading Invoice-JV3QQ0DZ-0005.pdf...\n",
      "Downloading Invoice-JV3QQ0DZ-0006.pdf...\n",
      "Downloading Wordpress.pdf...\n"
     ]
    }
   ],
   "source": [
    "for invoice in files:\n",
    "    local_path = os.path.join(LOCAL_INVOICE_FOLDER, invoice.name)\n",
    "    if not os.path.exists(local_path):\n",
    "        print(f\"Downloading {invoice.name}...\")\n",
    "        stream = client.downloads.download_file(invoice.id)\n",
    "        with open(local_path, \"wb\") as f:\n",
    "            for chunk in stream:\n",
    "                f.write(chunk)\n",
    "    else:\n",
    "        print(f\"{invoice.name} already exists in the local folder.\")"
   ]
  },
  {
   "cell_type": "markdown",
   "id": "5b6635c1",
   "metadata": {},
   "source": [
    "## Processing invoices\n",
    "\n",
    "Once we have every invoice locally stored, we can loop and process them one by one to extract their information.\n",
    "\n",
    "Let's start by creating a function that we'll extract the fields from a given invoice."
   ]
  },
  {
   "cell_type": "code",
   "execution_count": null,
   "id": "9c1dbbf6",
   "metadata": {},
   "outputs": [],
   "source": [
    "async def extract_invoice_fields(file: str, invoice: str):\n",
    "    \"\"\"\n",
    "    Extract data from the supplied invoice text.\n",
    "    \"\"\"\n",
    "    print(f\"Extracting data from invoice {file}...\")\n",
    "    client = genai.Client(api_key=GEMINI_API_KEY)\n",
    "\n",
    "    prompt = (\n",
    "        \"Extract the following information from this invoice text: \"\n",
    "        \"1. Client name \"\n",
    "        \"2. Invoice amount \"\n",
    "        \"3. Product name \"\n",
    "        \"Return the result as a JSON object.\"\n",
    "        \"Use the the following keys: \"\n",
    "        \"1. client_name (string) \"\n",
    "        \"2. invoice_amount (float) \"\n",
    "        \"3. product_name (string) \"\n",
    "        \"If the information is not found, return 'null' for the corresponding key.\\n\"\n",
    "        f\"Invoice text:\\n{invoice}\"\n",
    "    )\n",
    "\n",
    "    try:\n",
    "        response = await generate(prompt, client)\n",
    "        result = parse_json(response)\n",
    "        result[\"file\"] = file\n",
    "        print(json.dumps(result, indent=4))\n",
    "        return result\n",
    "    except Exception as e:\n",
    "        print(f\"Failed to extract data using Gemini. Exception:{e}\")"
   ]
  },
  {
   "cell_type": "markdown",
   "id": "79839738",
   "metadata": {},
   "source": [
    "Let's set up the database where we'll store the information of every invoice."
   ]
  },
  {
   "cell_type": "code",
   "execution_count": 8,
   "id": "0eba2358",
   "metadata": {},
   "outputs": [],
   "source": [
    "connection = setup_database()"
   ]
  },
  {
   "cell_type": "markdown",
   "id": "4321a463",
   "metadata": {},
   "source": [
    "Let's now process all invoices in the local folder and extract the appropriate fields. After we process every invoice, we'll update the database with all of its data."
   ]
  },
  {
   "cell_type": "code",
   "execution_count": 9,
   "id": "a28c0e80",
   "metadata": {},
   "outputs": [
    {
     "name": "stdout",
     "output_type": "stream",
     "text": [
      "\n",
      "Processing Wordpress.pdf...\n",
      "Extracting data from invoice Wordpress.pdf...\n",
      "{\n",
      "    \"client_name\": \"Test Business\",\n",
      "    \"invoice_amount\": 93.5,\n",
      "    \"product_name\": \"Web Design\",\n",
      "    \"file\": \"Wordpress.pdf\"\n",
      "}\n",
      "Updating database with invoice Wordpress.pdf...\n",
      "\n",
      "Processing Invoice-JV3QQ0DZ-0005.pdf...\n",
      "Extracting data from invoice Invoice-JV3QQ0DZ-0005.pdf...\n",
      "{\n",
      "    \"client_name\": \"Acme Inc\",\n",
      "    \"invoice_amount\": 400.0,\n",
      "    \"product_name\": \"Machine Learning School\",\n",
      "    \"file\": \"Invoice-JV3QQ0DZ-0005.pdf\"\n",
      "}\n",
      "Updating database with invoice Invoice-JV3QQ0DZ-0005.pdf...\n",
      "\n",
      "Processing Invoice-ETOX6AZS-0004.pdf...\n",
      "Extracting data from invoice Invoice-ETOX6AZS-0004.pdf...\n",
      "{\n",
      "    \"client_name\": \"Santiago Valdarrama\",\n",
      "    \"invoice_amount\": 15.0,\n",
      "    \"product_name\": \"my product\",\n",
      "    \"file\": \"Invoice-ETOX6AZS-0004.pdf\"\n",
      "}\n",
      "Updating database with invoice Invoice-ETOX6AZS-0004.pdf...\n",
      "\n",
      "Processing Invoice-JV3QQ0DZ-0006.pdf...\n",
      "Extracting data from invoice Invoice-JV3QQ0DZ-0006.pdf...\n",
      "{\n",
      "    \"client_name\": \"Acme Inc\",\n",
      "    \"invoice_amount\": 400.0,\n",
      "    \"product_name\": \"Machine Learning School\",\n",
      "    \"file\": \"Invoice-JV3QQ0DZ-0006.pdf\"\n",
      "}\n",
      "Updating database with invoice Invoice-JV3QQ0DZ-0006.pdf...\n"
     ]
    }
   ],
   "source": [
    "for file in os.listdir(LOCAL_INVOICE_FOLDER):\n",
    "    if file.endswith(\".pdf\"):\n",
    "        print(f\"\\nProcessing {file}...\")\n",
    "        try:\n",
    "            reader = PdfReader(os.path.join(LOCAL_INVOICE_FOLDER, file))\n",
    "            text = \"\"\n",
    "            for page in reader.pages:\n",
    "                text += page.extract_text() or \"\"\n",
    "\n",
    "            data = await extract_invoice_fields(file, text)\n",
    "            update_invoice_in_database(connection, data)\n",
    "\n",
    "        except Exception as e:\n",
    "            print(f\"Failed to extract text from {file}. Exception: {e}\")"
   ]
  },
  {
   "cell_type": "markdown",
   "id": "f58ced49",
   "metadata": {},
   "source": [
    "## Generating final report\n",
    "\n",
    "Finally, we want to generate a report with the data that we stored in the database."
   ]
  },
  {
   "cell_type": "code",
   "execution_count": 10,
   "id": "4ba6f998",
   "metadata": {},
   "outputs": [
    {
     "name": "stdout",
     "output_type": "stream",
     "text": [
      "\n",
      "Invoice Report\n",
      "* Total invoices: 4\n",
      "* Total amount: 908.5\n",
      "\n",
      "Breakdown by client:\n",
      "* Acme Inc: 2 invoices ($800.0)\n",
      "* Santiago Valdarrama: 1 invoices ($15.0)\n",
      "* Test Business: 1 invoices ($93.5)\n"
     ]
    }
   ],
   "source": [
    "generate_report(connection)\n",
    "connection.close()"
   ]
  }
 ],
 "metadata": {
  "kernelspec": {
   "display_name": "box-course",
   "language": "python",
   "name": "python3"
  },
  "language_info": {
   "codemirror_mode": {
    "name": "ipython",
    "version": 3
   },
   "file_extension": ".py",
   "mimetype": "text/x-python",
   "name": "python",
   "nbconvert_exporter": "python",
   "pygments_lexer": "ipython3",
   "version": "3.12.11"
  }
 },
 "nbformat": 4,
 "nbformat_minor": 5
}
